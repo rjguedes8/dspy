{
  "cells": [
    {
      "cell_type": "markdown",
      "metadata": {
        "id": "gQo2H-mM9CAO"
      },
      "source": [
        "## Install Libraries"
      ]
    },
    {
      "cell_type": "markdown",
      "metadata": {
        "id": "itHRBg0_9E5H"
      },
      "source": [
        "## Import packages and Load Model"
      ]
    },
    {
      "cell_type": "code",
      "execution_count": 1,
      "metadata": {
        "id": "-H20kQJr5ojj"
      },
      "outputs": [
        {
          "name": "stderr",
          "output_type": "stream",
          "text": [
            "/Users/rafael/miniconda3/envs/dspy/lib/python3.10/site-packages/tqdm/auto.py:21: TqdmWarning: IProgress not found. Please update jupyter and ipywidgets. See https://ipywidgets.readthedocs.io/en/stable/user_install.html\n",
            "  from .autonotebook import tqdm as notebook_tqdm\n"
          ]
        },
        {
          "data": {
            "text/plain": [
              "True"
            ]
          },
          "execution_count": 1,
          "metadata": {},
          "output_type": "execute_result"
        }
      ],
      "source": [
        "%load_ext autoreload\n",
        "%autoreload 2\n",
        "\n",
        "import os\n",
        "import dspy\n",
        "from dotenv import load_dotenv\n",
        "\n",
        "load_dotenv('env/var.env')"
      ]
    },
    {
      "cell_type": "markdown",
      "metadata": {},
      "source": [
        "### Models\n",
        "- we can use OpenAI or HuggingFace models"
      ]
    },
    {
      "cell_type": "code",
      "execution_count": 2,
      "metadata": {
        "id": "N9xyx8J7wOtQ"
      },
      "outputs": [],
      "source": [
        "lm=dspy.OpenAI(api_key=os.getenv(\"OPENAI_KEY\"), model='gpt-3.5-turbo-1106')\n",
        "#lm = dspy.HFModel(model='mistralai/Mistral-7B-Instruct-v0.1', token=os.getenv(\"HF_TOKEN\"))\n",
        "dspy.configure(lm=lm)"
      ]
    },
    {
      "cell_type": "markdown",
      "metadata": {
        "id": "uExCTkzm9AQc"
      },
      "source": [
        "# DSPy in action:\n",
        "1. DSPy is an interesting library to test LLMs in different contexts/problems by just changing the `Signature`\n",
        "2. Signatures in DSPy allow us to ask a LLM to perform different tasks without much prompt engineering, for example:\n",
        " - Sentiment Analysis `sentence -> sentiment`\n",
        " - Summarization `document -> summary`\n",
        " - RAG `context, question -> answer`\n",
        "3. But it can be even more personalized by bulding our own Signature Classes"
      ]
    },
    {
      "cell_type": "markdown",
      "metadata": {
        "id": "ENEh6m09-Xit"
      },
      "source": [
        "## Signatures"
      ]
    },
    {
      "cell_type": "markdown",
      "metadata": {
        "id": "lHzbHl9C-cC2"
      },
      "source": [
        "### 1. Sentence -> Sentiment (Sentiment Analysis)\n",
        "- Default"
      ]
    },
    {
      "cell_type": "code",
      "execution_count": 3,
      "metadata": {
        "colab": {
          "base_uri": "https://localhost:8080/"
        },
        "collapsed": true,
        "id": "nUbNr8BU8mTJ",
        "outputId": "10dd2647-4dc1-46e6-eace-c9731943f910"
      },
      "outputs": [
        {
          "name": "stdout",
          "output_type": "stream",
          "text": [
            "Positive\n"
          ]
        }
      ],
      "source": [
        "# basic example of classifying sentiment\n",
        "sentence = \"AI has the potential to enhance human capabilities and automate tedious tasks, thereby improving our productivity and quality of life.\"\n",
        "classify = dspy.Predict('sentence -> sentiment')\n",
        "result = classify(sentence=sentence)\n",
        "print(result.sentiment)"
      ]
    },
    {
      "cell_type": "code",
      "execution_count": 25,
      "metadata": {
        "colab": {
          "base_uri": "https://localhost:8080/"
        },
        "id": "dNL5Z1iiBEI3",
        "outputId": "dc2d1ba7-c295-4bd3-d9ce-11aca823da98"
      },
      "outputs": [
        {
          "name": "stdout",
          "output_type": "stream",
          "text": [
            "Neutral\n"
          ]
        }
      ],
      "source": [
        "sentence = \"Poorly designed or uncontrolled AI systems pose risks such as job displacement, privacy violations, and even existential threats if advanced AI becomes misaligned with human values.\"\n",
        "classify = dspy.Predict('sentence -> sentiment')\n",
        "result = classify(sentence=sentence)\n",
        "print(result.sentiment)"
      ]
    },
    {
      "cell_type": "code",
      "execution_count": 26,
      "metadata": {
        "colab": {
          "base_uri": "https://localhost:8080/"
        },
        "id": "mw1vKYX-BWTe",
        "outputId": "6c028f74-949f-4208-e07d-da3d1eb020cc"
      },
      "outputs": [
        {
          "name": "stdout",
          "output_type": "stream",
          "text": [
            "Negative\n"
          ]
        }
      ],
      "source": [
        "sentence = \"AI can bring existential threats if it becomes misaligned with human values.\"\n",
        "classify = dspy.Predict('sentence -> sentiment')\n",
        "result = classify(sentence=sentence)\n",
        "print(result.sentiment)"
      ]
    },
    {
      "cell_type": "markdown",
      "metadata": {
        "id": "bgtMnoVt-sBF"
      },
      "source": [
        "- Personalized"
      ]
    },
    {
      "cell_type": "code",
      "execution_count": 28,
      "metadata": {
        "colab": {
          "base_uri": "https://localhost:8080/"
        },
        "id": "D7kKLnLI8rqo",
        "outputId": "d9e61958-42de-4e14-a9e1-477519396ef7"
      },
      "outputs": [
        {
          "name": "stdout",
          "output_type": "stream",
          "text": [
            "no_need\n",
            "does_not_look_good\n"
          ]
        }
      ],
      "source": [
        "# an example below of the a custom signature and with a defined output\n",
        "class ReasonList(dspy.Signature):\n",
        "    \"\"\"Classify reason among no_need, too_large, too_small, does_not_look_good\"\"\"\n",
        "\n",
        "    sentence = dspy.InputField()\n",
        "    reason = dspy.OutputField(desc=\"A list of values of any one of no_need, too_large, too_small or does_not_look_good\", foramt=list[str])\n",
        "\n",
        "sentence = \"I'm returning this item because my sister offered me a similar one\"\n",
        "\n",
        "classify = dspy.Predict(ReasonList)\n",
        "result = classify(sentence=sentence)\n",
        "print(result.reason)\n",
        "\n",
        "sentence = \"I'm returning this item because I don't like to see me with it\"\n",
        "\n",
        "classify = dspy.Predict(ReasonList)\n",
        "result = classify(sentence=sentence)\n",
        "print(result.reason)"
      ]
    },
    {
      "cell_type": "markdown",
      "metadata": {
        "id": "F0Twerm_-z52"
      },
      "source": [
        "### 2. Document -> Summary (Summarization)"
      ]
    },
    {
      "cell_type": "code",
      "execution_count": 39,
      "metadata": {
        "colab": {
          "base_uri": "https://localhost:8080/"
        },
        "id": "3COamOF-_Odh",
        "outputId": "9351d7a3-9005-4219-8b2b-50af77d3f27a"
      },
      "outputs": [
        {
          "name": "stdout",
          "output_type": "stream",
          "text": [
            "Prediction(\n",
            "    summary='AI technologies have the potential to enhance and augment human capabilities in various domains by automating routine tasks, processing large datasets, and providing personalized assistance. They can also contribute to addressing global challenges. However, ethical considerations and potential risks must be carefully navigated.'\n",
            ")\n",
            "AI technologies hold great promise to automate routine tasks, drive productivity and efficiency gains, and enable data-driven decision making across industries. They also have the potential to enhance human experiences, address global challenges, and extend human physical capabilities. However, the development and deployment of AI also come with important ethical considerations and potential risks that must be carefully navigated.\n"
          ]
        }
      ],
      "source": [
        "# an example below of the same signature but with different modules\n",
        "document = \"\"\"AI technologies hold great promise to enhance and augment human capabilities in a wide range of domains. One of the key benefits of AI is its ability to automate routine and repetitive tasks, freeing up human workers to focus on more complex, creative, and strategic work. AI-powered automation can drive gains in productivity, efficiency, and cost savings across industries.\n",
        "\n",
        "Additionally, AI systems excel at quickly processing and analyzing large datasets, identifying patterns and insights that may elude human cognition. This data-driven decision making can lead to more informed, evidence-based choices in fields like healthcare, finance, transportation, and scientific research. For example, AI algorithms can assist doctors in early disease detection, optimize logistics and supply chains, and accelerate drug discovery.\n",
        "\n",
        "Furthermore, AI has transformative potential in enhancing human experiences. AI-powered personal assistants, chatbots, and recommender systems can provide personalized assistance, information, and content tailored to individual needs and preferences. This can improve customer service, education, and quality of life. Advancements in natural language processing, computer vision, and robotic technologies also hold promise for assisting the elderly and disabled, improving accessibility, and extending human physical capabilities.\n",
        "\n",
        "Lastly, AI may play a vital role in addressing global challenges, such as climate change, resource scarcity, and disease outbreaks. AI systems can help optimize energy grids, model climate patterns, accelerate scientific research, and coordinate disaster response efforts more efficiently than human-only approaches.\n",
        "\n",
        "Of course, the development and deployment of AI also come with important ethical considerations and potential risks that must be carefully navigated. But overall, the transformative potential of AI to augment and empower humanity is profound and worth continued responsible exploration and investment.\"\"\"\n",
        "\n",
        "summarize = dspy.Predict('document -> summary')\n",
        "response = summarize(document=document)\n",
        "print(response)\n",
        "\n",
        "summarize = dspy.ChainOfThought('document -> summary')\n",
        "response = summarize(document=document)\n",
        "print(response.summary)"
      ]
    },
    {
      "cell_type": "code",
      "execution_count": 38,
      "metadata": {
        "colab": {
          "base_uri": "https://localhost:8080/"
        },
        "id": "axIExUp8DPwq",
        "outputId": "e0f4a494-cfd2-448e-d186-dd689537e184"
      },
      "outputs": [
        {
          "name": "stdout",
          "output_type": "stream",
          "text": [
            "\n",
            "\n",
            "\n",
            "Given the fields `document`, produce the fields `summary`.\n",
            "\n",
            "---\n",
            "\n",
            "Follow the following format.\n",
            "\n",
            "Document: ${document}\n",
            "Reasoning: Let's think step by step in order to ${produce the summary}. We ...\n",
            "Summary: ${summary}\n",
            "\n",
            "---\n",
            "\n",
            "Document: AI technologies hold great promise to enhance and augment human capabilities in a wide range of domains. One of the key benefits of AI is its ability to automate routine and repetitive tasks, freeing up human workers to focus on more complex, creative, and strategic work. AI-powered automation can drive gains in productivity, efficiency, and cost savings across industries. Additionally, AI systems excel at quickly processing and analyzing large datasets, identifying patterns and insights that may elude human cognition. This data-driven decision making can lead to more informed, evidence-based choices in fields like healthcare, finance, transportation, and scientific research. For example, AI algorithms can assist doctors in early disease detection, optimize logistics and supply chains, and accelerate drug discovery. Furthermore, AI has transformative potential in enhancing human experiences. AI-powered personal assistants, chatbots, and recommender systems can provide personalized assistance, information, and content tailored to individual needs and preferences. This can improve customer service, education, and quality of life. Advancements in natural language processing, computer vision, and robotic technologies also hold promise for assisting the elderly and disabled, improving accessibility, and extending human physical capabilities. Lastly, AI may play a vital role in addressing global challenges, such as climate change, resource scarcity, and disease outbreaks. AI systems can help optimize energy grids, model climate patterns, accelerate scientific research, and coordinate disaster response efforts more efficiently than human-only approaches. Of course, the development and deployment of AI also come with important ethical considerations and potential risks that must be carefully navigated. But overall, the transformative potential of AI to augment and empower humanity is profound and worth continued responsible exploration and investment.\n",
            "Reasoning: Let's think step by step in order to\u001b[32m produce the summary. We need to highlight the key benefits and potential applications of AI technologies, as well as the ethical considerations and risks involved. We also need to emphasize the transformative potential of AI to enhance and empower humanity.\n",
            "Summary: AI technologies hold great promise to automate routine tasks, drive productivity and efficiency gains, and enable data-driven decision making across industries. They also have the potential to enhance human experiences, address global challenges, and extend human physical capabilities. However, the development and deployment of AI also come with important ethical considerations and potential risks that must be carefully navigated.\u001b[0m\n",
            "\n",
            "\n",
            "\n",
            "\n",
            "\n",
            "\n",
            "Given the fields `document`, produce the fields `summary`.\n",
            "\n",
            "---\n",
            "\n",
            "Follow the following format.\n",
            "\n",
            "Document: ${document}\n",
            "Reasoning: Let's think step by step in order to ${produce the summary}. We ...\n",
            "Summary: ${summary}\n",
            "\n",
            "---\n",
            "\n",
            "Document: AI technologies hold great promise to enhance and augment human capabilities in a wide range of domains. One of the key benefits of AI is its ability to automate routine and repetitive tasks, freeing up human workers to focus on more complex, creative, and strategic work. AI-powered automation can drive gains in productivity, efficiency, and cost savings across industries. Additionally, AI systems excel at quickly processing and analyzing large datasets, identifying patterns and insights that may elude human cognition. This data-driven decision making can lead to more informed, evidence-based choices in fields like healthcare, finance, transportation, and scientific research. For example, AI algorithms can assist doctors in early disease detection, optimize logistics and supply chains, and accelerate drug discovery. Furthermore, AI has transformative potential in enhancing human experiences. AI-powered personal assistants, chatbots, and recommender systems can provide personalized assistance, information, and content tailored to individual needs and preferences. This can improve customer service, education, and quality of life. Advancements in natural language processing, computer vision, and robotic technologies also hold promise for assisting the elderly and disabled, improving accessibility, and extending human physical capabilities. Lastly, AI may play a vital role in addressing global challenges, such as climate change, resource scarcity, and disease outbreaks. AI systems can help optimize energy grids, model climate patterns, accelerate scientific research, and coordinate disaster response efforts more efficiently than human-only approaches. Of course, the development and deployment of AI also come with important ethical considerations and potential risks that must be carefully navigated. But overall, the transformative potential of AI to augment and empower humanity is profound and worth continued responsible exploration and investment.\n",
            "Reasoning: Let's think step by step in order to\u001b[32m produce the summary. We need to highlight the key benefits and potential applications of AI technologies, as well as the ethical considerations and risks involved. We also need to emphasize the transformative potential of AI to enhance and empower humanity.\n",
            "Summary: AI technologies hold great promise to automate routine tasks, drive productivity and efficiency gains, and enable data-driven decision making across industries. They also have the potential to enhance human experiences, address global challenges, and extend human physical capabilities. However, the development and deployment of AI also come with important ethical considerations and potential risks that must be carefully navigated.\u001b[0m\n",
            "\n",
            "\n",
            "\n"
          ]
        }
      ],
      "source": [
        "print(lm.inspect_history(n=1))"
      ]
    },
    {
      "cell_type": "markdown",
      "metadata": {
        "id": "t7nIBnnv_R44"
      },
      "source": [
        "## 3. Context, Question -> Answer (RAG)"
      ]
    },
    {
      "cell_type": "code",
      "execution_count": 48,
      "metadata": {
        "colab": {
          "base_uri": "https://localhost:8080/"
        },
        "id": "YYQlb0JX_RgM",
        "outputId": "7104f71c-372b-4a89-a34b-443b16f0fdae"
      },
      "outputs": [
        {
          "name": "stdout",
          "output_type": "stream",
          "text": [
            "As of the recent developments, Apple has surpassed Nvidia and is currently the most valuable company, following their heavy investment in AI.\n"
          ]
        }
      ],
      "source": [
        "# an example below of the a custom signature using the basic RAG structure.\n",
        "context = \"\"\"\n",
        "Context: Nvidia's stock has nearly tripled so far this year, compared with a rise of about 19% in Microsoft shares, with demand for its top-of-the-line processors outpacing supply.\n",
        "Tech giants Microsoft, Meta Platforms (META.O), opens new tab and Google-owner Alphabet (GOOGL.O), opens new tab are competing to build out their AI computing capabilities and add the technology to their products and services.\n",
        "An insatiable appetite for Nvidia's AI processors, viewed as far superior to competitors' offerings, has left them in tight supply, and many investors view Nvidia as the greatest winner to date from surging AI development.\n",
        "Although in the last few weeks we have been seing NVIDIA reaching the top of the most valued companies in the world, it was surpassed by Apple after the news about their heavy investment in AI.\n",
        "\"\"\"\n",
        "question = \"What is the most valuable company?\"\n",
        "\n",
        "qa = dspy.ChainOfThought('context, question -> answer', temperature=0.7)\n",
        "response = qa(context=context, question=question)\n",
        "print(response.answer)"
      ]
    },
    {
      "cell_type": "code",
      "execution_count": 49,
      "metadata": {
        "colab": {
          "base_uri": "https://localhost:8080/"
        },
        "id": "7jljKBA3AR5c",
        "outputId": "61c872e4-0696-489c-d836-f7f839713c04"
      },
      "outputs": [
        {
          "name": "stdout",
          "output_type": "stream",
          "text": [
            "\n",
            "\n",
            "\n",
            "Given the fields `context`, `question`, produce the fields `answer`.\n",
            "\n",
            "---\n",
            "\n",
            "Follow the following format.\n",
            "\n",
            "Context: ${context}\n",
            "\n",
            "Question: ${question}\n",
            "\n",
            "Reasoning: Let's think step by step in order to ${produce the answer}. We ...\n",
            "\n",
            "Answer: ${answer}\n",
            "\n",
            "---\n",
            "\n",
            "Context:\n",
            "\n",
            "Context: Nvidia's stock has nearly tripled so far this year, compared with a rise of about 19% in Microsoft shares, with demand for its top-of-the-line processors outpacing supply.\n",
            "Tech giants Microsoft, Meta Platforms (META.O), opens new tab and Google-owner Alphabet (GOOGL.O), opens new tab are competing to build out their AI computing capabilities and add the technology to their products and services.\n",
            "An insatiable appetite for Nvidia's AI processors, viewed as far superior to competitors' offerings, has left them in tight supply, and many investors view Nvidia as the greatest winner to date from surging AI development.\n",
            "Although in the last few weeks we have been seing NVIDIA reaching the top of the most valued companies in the world, it was surpassed by Apple after the news about their heavy investment in AI. \n",
            "\n",
            "\n",
            "Question: What is the most valuable company?\n",
            "\n",
            "Reasoning: Let's think step by step in order to\u001b[32m produce the answer. We need to consider the recent news and developments in AI technology and its impact on the value of companies.\n",
            "\n",
            "Answer: As of the recent developments, Apple has surpassed Nvidia and is currently the most valuable company, following their heavy investment in AI.\u001b[0m\n",
            "\n",
            "\n",
            "\n",
            "\n",
            "\n",
            "\n",
            "Given the fields `context`, `question`, produce the fields `answer`.\n",
            "\n",
            "---\n",
            "\n",
            "Follow the following format.\n",
            "\n",
            "Context: ${context}\n",
            "\n",
            "Question: ${question}\n",
            "\n",
            "Reasoning: Let's think step by step in order to ${produce the answer}. We ...\n",
            "\n",
            "Answer: ${answer}\n",
            "\n",
            "---\n",
            "\n",
            "Context:\n",
            "\n",
            "Context: Nvidia's stock has nearly tripled so far this year, compared with a rise of about 19% in Microsoft shares, with demand for its top-of-the-line processors outpacing supply.\n",
            "Tech giants Microsoft, Meta Platforms (META.O), opens new tab and Google-owner Alphabet (GOOGL.O), opens new tab are competing to build out their AI computing capabilities and add the technology to their products and services.\n",
            "An insatiable appetite for Nvidia's AI processors, viewed as far superior to competitors' offerings, has left them in tight supply, and many investors view Nvidia as the greatest winner to date from surging AI development.\n",
            "Although in the last few weeks we have been seing NVIDIA reaching the top of the most valued companies in the world, it was surpassed by Apple after the news about their heavy investment in AI. \n",
            "\n",
            "\n",
            "Question: What is the most valuable company?\n",
            "\n",
            "Reasoning: Let's think step by step in order to\u001b[32m produce the answer. We need to consider the recent news and developments in AI technology and its impact on the value of companies.\n",
            "\n",
            "Answer: As of the recent developments, Apple has surpassed Nvidia and is currently the most valuable company, following their heavy investment in AI.\u001b[0m\n",
            "\n",
            "\n",
            "\n"
          ]
        }
      ],
      "source": [
        "print(lm.inspect_history(n=1))"
      ]
    }
  ],
  "metadata": {
    "accelerator": "GPU",
    "colab": {
      "provenance": []
    },
    "kernelspec": {
      "display_name": "Python 3",
      "name": "python3"
    },
    "language_info": {
      "codemirror_mode": {
        "name": "ipython",
        "version": 3
      },
      "file_extension": ".py",
      "mimetype": "text/x-python",
      "name": "python",
      "nbconvert_exporter": "python",
      "pygments_lexer": "ipython3",
      "version": "3.1.undefined"
    }
  },
  "nbformat": 4,
  "nbformat_minor": 0
}
